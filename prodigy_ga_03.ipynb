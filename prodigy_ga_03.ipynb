{
  "nbformat": 4,
  "nbformat_minor": 0,
  "metadata": {
    "colab": {
      "provenance": []
    },
    "kernelspec": {
      "name": "python3",
      "display_name": "Python 3"
    },
    "language_info": {
      "name": "python"
    }
  },
  "cells": [
    {
      "cell_type": "code",
      "execution_count": 3,
      "metadata": {
        "id": "jWzGyMFLM2kg"
      },
      "outputs": [],
      "source": [
        "with open(\"custom_data.txt\", \"r\", encoding=\"utf-8\") as f:\n",
        "    text = f.read()"
      ]
    },
    {
      "cell_type": "code",
      "source": [
        "import random\n",
        "from collections import defaultdict\n",
        "\n",
        "def build_markov_chain(text, n=2):\n",
        "    words = text.split()\n",
        "    chain = defaultdict(list)\n",
        "\n",
        "    for i in range(len(words) - n):\n",
        "        key = tuple(words[i:i+n])\n",
        "        next_word = words[i+n]\n",
        "        chain[key].append(next_word)\n",
        "\n",
        "    return chain"
      ],
      "metadata": {
        "id": "u1_Hn2SNOscW"
      },
      "execution_count": 5,
      "outputs": []
    },
    {
      "cell_type": "code",
      "source": [
        "def generate_text(chain, n=2, max_words=50):\n",
        "    start = random.choice(list(chain.keys()))\n",
        "    output = list(start)\n",
        "\n",
        "    for _ in range(max_words - n):\n",
        "        current_key = tuple(output[-n:])\n",
        "        next_words = chain.get(current_key)\n",
        "        if not next_words:\n",
        "            break\n",
        "        next_word = random.choice(next_words)\n",
        "        output.append(next_word)\n",
        "\n",
        "    return ' '.join(output)\n"
      ],
      "metadata": {
        "id": "NCRM60Q3OuQJ"
      },
      "execution_count": 7,
      "outputs": []
    },
    {
      "cell_type": "code",
      "source": [
        "# Build the model\n",
        "markov_chain = build_markov_chain(text)\n",
        "\n",
        "# Generate a sample\n",
        "generated = generate_text(markov_chain)\n",
        "print(\"📝 Generated Text:\\n\")\n",
        "print(generated)\n"
      ],
      "metadata": {
        "colab": {
          "base_uri": "https://localhost:8080/"
        },
        "id": "Ha5D5LuLOy-Y",
        "outputId": "814cfb1b-5168-4242-e5e0-bb663e26f383"
      },
      "execution_count": 10,
      "outputs": [
        {
          "output_type": "stream",
          "name": "stdout",
          "text": [
            "📝 Generated Text:\n",
            "\n",
            "to code is like learning a new language—it takes practice, patience, and curiosity. In the quiet of the night, when the city sleeps, creativity wakes up and begins to dance across the blank pages. Health is not about doing more, but about doing more, but about doing what matters most\n"
          ]
        }
      ]
    }
  ]
}